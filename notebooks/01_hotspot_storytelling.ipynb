{
 "cells": [
  {
   "cell_type": "markdown",
   "id": "7c35bea5",
   "metadata": {},
   "source": [
    "# Hotspot Storytelling Exploration\n",
    "\n",
    "Use this notebook to inspect Chicago crime hotspots before demoing the Streamlit dashboard. It combines deterministic L3 aggregates with contextual data from L2 (crime types, normalized streets, districts). Adjust the parameters below to explore other months or H3 resolutions."
   ]
  },
  {
   "cell_type": "code",
   "execution_count": null,
   "id": "daf71223",
   "metadata": {},
   "outputs": [],
   "source": [
    "from pathlib import Path\n",
    "import pandas as pd\n",
    "import numpy as np\n",
    "import plotly.express as px\n",
    "import h3\n"
   ]
  },
  {
   "cell_type": "code",
   "execution_count": null,
   "id": "b0ffab52",
   "metadata": {},
   "outputs": [],
   "source": [
    "# Parameters\n",
    "YEAR = 2024\n",
    "MONTH = 9\n",
    "RESOLUTION = 9  # 7 ≈ district, 8 ≈ neighbourhood, 9 ≈ block"
   ]
  },
  {
   "cell_type": "code",
   "execution_count": null,
   "id": "b820943c",
   "metadata": {},
   "outputs": [],
   "source": [
    "ROOT = Path.cwd()\n",
    "L3_PATH = ROOT / f'data/l3/res={RESOLUTION}/year={YEAR}/month={MONTH:02d}' / f'l3-aggregates-{RESOLUTION}-{YEAR}-{MONTH:02d}.parquet'\n",
    "L2_PATH = ROOT / f'data/l2/year={YEAR}/month={MONTH:02d}/features-{YEAR}-{MONTH:02d}.parquet'\n",
    "print('L3 exists?', L3_PATH.exists())\n",
    "print('L2 exists?', L2_PATH.exists())"
   ]
  },
  {
   "cell_type": "code",
   "execution_count": null,
   "id": "96140ebb",
   "metadata": {},
   "outputs": [],
   "source": [
    "l3 = pd.read_parquet(L3_PATH)\n",
    "l3['date'] = pd.to_datetime(l3['date'])\n",
    "cols = ['datetime', 'primary_type', 'street_norm', 'community_area_id', 'district_id', 'ward_id', 'h3_r7', 'h3_r8', 'h3_r9']\n",
    "l2 = pd.read_parquet(L2_PATH)\n",
    "l2 = l2[[c for c in cols if c in l2.columns]].copy()\n",
    "l2['datetime'] = pd.to_datetime(l2['datetime'])\n",
    "print(l3.head())\n",
    "print(l2.head())"
   ]
  },
  {
   "cell_type": "code",
   "execution_count": null,
   "id": "e36ed59b",
   "metadata": {},
   "outputs": [],
   "source": [
    "h3_col = f'h3_r{RESOLUTION}'\n",
    "summary_cols = ['n_crimes', 'n_arrests', 'low_conf', 'smoothed_rate', 'pooled_smoothed']\n",
    "summary = (\n",
    "    l3.assign(low_conf=lambda d: d['low_conf'].astype(bool))\n",
    "      .groupby(h3_col, dropna=True)[summary_cols]\n",
    "      .agg({'n_crimes': 'sum', 'n_arrests': 'sum', 'low_conf': 'mean', 'smoothed_rate': 'mean', 'pooled_smoothed': 'mean'})\n",
    "      .reset_index()\n",
    "      .rename(columns={h3_col: 'h3_id', 'low_conf': 'low_conf_share'})\n",
    ")\n",
    "summary['low_conf_share'] = summary['low_conf_share'].round(3)\n",
    "summary['lat'] = summary['h3_id'].apply(lambda h: h3.cell_to_latlng(h)[0])\n",
    "summary['lon'] = summary['h3_id'].apply(lambda h: h3.cell_to_latlng(h)[1])\n",
    "summary.head()"
   ]
  },
  {
   "cell_type": "code",
   "execution_count": null,
   "id": "ad8dde75",
   "metadata": {},
   "outputs": [],
   "source": [
    "def top_value(df, value_col, alias):\n",
    "    clean = df.dropna(subset=[h3_col, value_col])\n",
    "    if clean.empty:\n",
    "        return pd.DataFrame(columns=['h3_id', alias])\n",
    "    counts = (clean.groupby([h3_col, value_col]).size().reset_index(name='count')\n",
    "              .sort_values(['count', value_col], ascending=[False, True]))\n",
    "    top = counts.drop_duplicates(h3_col).rename(columns={h3_col: 'h3_id', value_col: alias, 'count': f'{alias}_count'})\n",
    "    return top\n",
    "\n",
    "context_frames = [\n",
    "    top_value(l2, 'primary_type', 'common_crime'),\n",
    "    top_value(l2, 'street_norm', 'signature_street'),\n",
    "    top_value(l2, 'district_id', 'district_id'),\n",
    "    top_value(l2, 'community_area_id', 'community_area_id'),\n",
    "]\n",
    "context = None\n",
    "for frame in context_frames:\n",
    "    context = frame if context is None else context.merge(frame, on='h3_id', how='outer')\n",
    "context = context.fillna({'common_crime': 'UNKNOWN', 'signature_street': 'UNKNOWN'})\n",
    "summary = summary.merge(context, on='h3_id', how='left')\n",
    "summary.head()"
   ]
  },
  {
   "cell_type": "code",
   "execution_count": null,
   "id": "2b75c05d",
   "metadata": {},
   "outputs": [],
   "source": [
    "import math\n",
    "selected_types = []  # e.g. ['THEFT', 'BATTERY']\n",
    "base = l2.dropna(subset=[h3_col])\n",
    "total = base.groupby(h3_col).size().reset_index(name='incident_total')\n",
    "if selected_types:\n",
    "    focus = base[base['primary_type'].isin(selected_types)].groupby(h3_col).size().reset_index(name='focus_count')\n",
    "else:\n",
    "    focus = total.rename(columns={'incident_total': 'focus_count'})\n",
    "share = total.merge(focus, on=h3_col, how='left').fillna({'focus_count': 0})\n",
    "share['focus_share'] = share.apply(lambda r: 0 if r['incident_total'] == 0 else r['focus_count'] / r['incident_total'], axis=1)\n",
    "summary = summary.merge(share.rename(columns={h3_col: 'h3_id'}), on='h3_id', how='left')\n",
    "summary.head()"
   ]
  },
  {
   "cell_type": "code",
   "execution_count": null,
   "id": "7f4739bf",
   "metadata": {},
   "outputs": [],
   "source": [
    "geojson = {\n",
    "    'type': 'FeatureCollection',\n",
    "    'features': [\n",
    "        {\n",
    "            'type': 'Feature',\n",
    "            'id': row['h3_id'],\n",
    "            'properties': {'h3_id': row['h3_id']},\n",
    "            'geometry': {'type': 'Polygon', 'coordinates': [h3.cell_to_boundary(row['h3_id'], geo_json=True)]}\n",
    "        }\n",
    "        for _, row in summary.iterrows()\n",
    "    ]\n",
    "}\n",
    "\n",
    "fig = px.choropleth_mapbox(\n",
    "    summary, geojson=geojson, locations='h3_id', featureidkey='properties.h3_id',\n",
    "    color='n_crimes', color_continuous_scale='YlOrRd',\n",
    "    hover_data={\n",
    "        'n_crimes': True, 'n_arrests': True, 'smoothed_rate': ':.2f', 'low_conf_share': ':.2f',\n",
    "        'focus_share': ':.2f', 'common_crime': True, 'signature_street': True, 'district_id': True\n",
    "    },\n",
    "    mapbox_style='open-street-map', center={'lat': 41.881832, 'lon': -87.623177}, zoom=10.5, opacity=0.75,\n",
    "    title=f'Hotspots r{RESOLUTION} — {YEAR}-{MONTH:02d}'\n",
    ")\n",
    "fig.update_layout(margin={'l': 0, 'r': 0, 't': 60, 'b': 0})\n",
    "fig.show()"
   ]
  },
  {
   "cell_type": "code",
   "execution_count": null,
   "id": "98c53aa0",
   "metadata": {},
   "outputs": [],
   "source": [
    "daily = l3.groupby('date', as_index=False)['n_crimes'].sum()\n",
    "px.line(daily, x='date', y='n_crimes', markers=True, title='Daily incident trend').update_layout(yaxis_title='Incidents', xaxis_title='Date')"
   ]
  },
  {
   "cell_type": "code",
   "execution_count": null,
   "id": "69e192c7",
   "metadata": {},
   "outputs": [],
   "source": [
    "crime_mix = l2['primary_type'].value_counts().head(10).reset_index().rename(columns={'index': 'primary_type', 'primary_type': 'count'})\n",
    "px.bar(crime_mix, x='count', y='primary_type', orientation='h', title='Top crime categories').update_layout(yaxis_title='', xaxis_title='Incidents')"
   ]
  },
  {
   "cell_type": "code",
   "execution_count": null,
   "id": "46726729",
   "metadata": {},
   "outputs": [],
   "source": [
    "summary[['h3_id', 'n_crimes', 'common_crime', 'signature_street', 'focus_share']].sort_values('n_crimes', ascending=False).head(10)"
   ]
  },
  {
   "cell_type": "markdown",
   "id": "d3970a1c",
   "metadata": {},
   "source": [
    "### Talking points\n",
    "- Highlight the top three hexes, referencing their signature street and dominant crime type.\n",
    "- Use `focus_share` to explain how the selected crime filter (if any) concentrates in certain cells.\n",
    "- Mention resolution size (r7 ≈ 1.2km, r8 ≈ 0.46km, r9 ≈ 0.17km) so stakeholders grasp map granularity."
   ]
  }
 ],
 "metadata": {},
 "nbformat": 4,
 "nbformat_minor": 5
}
